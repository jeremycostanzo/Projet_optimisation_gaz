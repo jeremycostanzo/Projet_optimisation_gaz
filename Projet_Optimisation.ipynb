{
 "cells": [
  {
   "cell_type": "markdown",
   "metadata": {},
   "source": [
    "# Projet optimisation Amélys Jérémy"
   ]
  },
  {
   "cell_type": "markdown",
   "metadata": {},
   "source": [
    "## Partie I : Modélisation"
   ]
  },
  {
   "cell_type": "markdown",
   "metadata": {},
   "source": [
    "### Question  1"
   ]
  },
  {
   "cell_type": "markdown",
   "metadata": {},
   "source": [
    "On définit le prix d’une canalisation $c =p_c DL$\n",
    "avec : $D$ le diamètre de la canalisation, \n",
    "$L$ la longueur de la canalisation \n",
    "$p_c$ est une constante de coût en €/m2\n",
    "\n",
    "On définit le prix d’une station : $s = p_sP$ avec : $P$ la puissance installée en W et $p_s$ une constante en €/W\n",
    "\n",
    "On se donne un réseau de noeuds.\n",
    "Soit i, j des noeuds du réseau. On définit \n",
    "\n",
    "$$\n",
    "\\delta_{i,j} = \\left\\{\n",
    "    \\begin{array}{ll}\n",
    "        1\\ \\mbox{si }i\\mbox{ et }j\\mbox{ sont reliés} \\\\\n",
    "        0\\mbox{ sinon}\n",
    "    \\end{array}\n",
    "\\right.\n",
    "$$\n",
    "On note $L_{i,j}$ la distance entre les noeuds $i$ et $j$.\n",
    "\n",
    "Ainsi la fonction objectif du problème est:\n",
    "\n",
    "$$\n",
    "\\begin{align*}\n",
    "  f \\colon (\\mathbb{R}^{n^2})^2 &\\to \\mathbb{R}\\\\\n",
    "  (D_{i,j},P_{i,j})_{1 \\leq i,j \\leq n} &\\mapsto \\sum_{1 \\leq i,j \\leq n} (p_c D_{i,j}L_{i,j} + p_sP_{i,j})\\delta_{i,j}\n",
    "\\end{align*}\n",
    "$$\n",
    "\n",
    "Nous avons considéré que tous les points reliés ont une canalisation de diamètre non nul, et qu'une station peut ou non exister.\n",
    "\n",
    "Donc s'il y a une station entre $i$ et $j$, on rajoute une puissance de compression sur une canalisation existante (il faut bien qu'il y ait du fluide qui traverse)."
   ]
  },
  {
   "cell_type": "markdown",
   "metadata": {},
   "source": [
    "### Question  2"
   ]
  },
  {
   "cell_type": "markdown",
   "metadata": {},
   "source": [
    "Pour calculer la perte de charge le long d'une canalisation, on prend l'équation :\n",
    "$$\n",
    "\\Delta P^2 = 25.2 (\\frac{S Q_g^2 Z T f L}{d^5})\n",
    "$$\n",
    "\n",
    "On note $ K = 25.2 Z T f S $, on suppose K constant. Et on note $C$ la constante telle que $\\Delta P^2 = C \\frac{S L}{d^5}$.\n",
    "$C \\neq K$ car il faut prendre en compte les conversions d'unité pour qu'on puisse imposer :\n",
    "- $L$ longueur en $10^3 km$\n",
    "- $Q_g$ débit en $Mm^3/h$\n",
    "- $d$ diamètre du tuyau en $m$\n"
   ]
  },
  {
   "cell_type": "markdown",
   "metadata": {},
   "source": [
    "### Question  3"
   ]
  },
  {
   "cell_type": "markdown",
   "metadata": {},
   "source": [
    "On se place en régime permanent.\n",
    "\n",
    "On définit $v_{ij}$ vitesse de l’écoulement dans la canalisation ij : \n",
    "$v_{ij}= \\frac{D_v}{S_{ij}}$ avec $S_{ij}= \\pi (\\frac{D_{ij}}{2})^2$ surface de la canalisation.\n",
    "On fait l’hypothèse de compression adiabatique dans la station de compression.\n",
    "On se place dans l’hypothèse des gazs parfaits. La température est supposée constante.\n",
    "\n",
    "Ainsi on a $U = U(T) = constante$, ie $\\Delta U = 0$.\n",
    "\n",
    "D’après le premier principe de la thermodynamique, $\\Delta U + \\Delta (PV)= W + Q$.\n",
    "La compression est adiabatique et $W = \\dot{w} \\Delta t$ .\n",
    "\n",
    "Ainsi $\\Delta (PV) = \\dot{w} \\Delta t$.\n",
    "\n",
    "Le débit est supposé constant dans les canalisations qui sont de diamètre constant, on a donc $\\Delta (PV) = V \\Delta P = \\dot{w} \\Delta t$  d’où $\\Delta P = \\frac{\\dot{w} \\Delta t}{V} = \\frac{\\dot{w} \\Delta t}{D_v \\Delta t} = \\frac{\\dot{w}}{D_v}$.\n",
    "\n"
   ]
  },
  {
   "cell_type": "markdown",
   "metadata": {},
   "source": [
    "### Question  4"
   ]
  },
  {
   "cell_type": "markdown",
   "metadata": {},
   "source": [
    "Les variables de décision sont $Pr_1$, et l’ensemble des couples $(D_{ij}, P_{ij})$ entre les points i et j reliés. \n",
    "\n",
    "Les contraintes sont : \n",
    "\n",
    "- Contraintes sur les diamètres :\n",
    "\n",
    "    1 : $\\forall i, j \\in [1, n]^2, D_{ij} - 1.5 \\leq 0$\n",
    "    \n",
    "    2 : $\\forall i, j \\in [1, n]^2, 0.3 - D_{ij} \\leq 0$\n",
    "\n",
    "- Contraintes sur les pressions :\n",
    "\n",
    "    3 : $\\forall i \\in [1, n], Pr_i - 68 \\leq 0$ où $Pr_i$ est la pression en bar au point i \n",
    "\n",
    "    4 : $\\forall i \\in [1, n], 45 - Pr_i \\leq 0 $\n",
    "\n",
    "    5 : $\\forall i \\in [1,n], \\exists A \\in \\mathbb{R}\\:| \\: \\forall j \\in \\bar{d} (i), Pr_j - \\sqrt{\\frac{C Q_{ij}^2 L_{ij}}{(D_{ij}^{0} + D_{ij})^5}} + \\frac{P_{ij}}{Q_{ij}} - A = 0$\n",
    "\n",
    "    où\n",
    "    \n",
    "     - $\\bar{d} (i)$ ensemble des noeuds appartenant à un arc ayant i pour extrémité\n",
    "     - $Q_{ij}$ débit de i à j\n",
    "     - $L_{ij}$ longueur qui sépare les noeuds i et j\n",
    "     - $D_{ij}^{0}$ dimaètre initial de canalisation entre i et j\n",
    "    \n",
    "  Cette contrainte revient à dire que peu importe la façon de calculer la pression au noeud i, on obtient la même.\n",
    "  \n",
    "\n",
    "- Contraintes sur les débits (qui sont imposés par le réseau) :\n",
    "\n",
    "    6 : $Q_{in} - 2 = 0 Mm^3/h$\n",
    "\n",
    "    7 : $Q_{out} - 1 = 0 Mm^3/h$\n",
    "    \n",
    "    8 : $\\forall i \\in [1, n], \\sum\\limits_{j \\in \\bar{d} (i)} (débit \\, entrant\\, sur \\,l'arc \\, (j, i) \\, au \\, noeud \\, i) = 0$\n",
    "\n",
    "    où $\\bar{d} (i)$ ensemble des noeuds appartenant à un arc ayant i pour extrémité.\n",
    "\n",
    "- Contraintes sur les stations de compression :\n",
    "\n",
    "    9 : $\\forall i, j \\in [1, n]^2, P_{ij} \\leq P_{max}$ où $P_{max}$ est fixée\n",
    "\n",
    "    10 : $\\forall i, j \\in [1, n]^2, P_{ij} \\geq 0$\n",
    "\n",
    "    Cette contrainte me paraît assez évidente, mais on pourrait imaginer gagner de l'argent en réduisant la puissance du fluide. Cela ne fonctionne pas comme ça en pratique !\n",
    "    "
   ]
  },
  {
   "cell_type": "markdown",
   "metadata": {},
   "source": [
    "On obtient ainsi une formulation du problème : \n",
    "\n",
    "$$ \\min_{(D, P, \\Pi ) \\in (\\mathbb{R}^{n^2})^3} f(D, P)$$\n",
    "\n",
    "sous les contraintes :\n",
    "$$ C_i (D, P, \\Pi) \\leq 0 , \\: C_e (D, P, \\Pi) = 0$$\n",
    "\n",
    "où $C_i (D, P, \\Pi)$ sont les contraintes inégalités définies ci-dessus, et $C_e (D, P, \\Pi)$ sont les contraintes égalités.\n",
    "\n",
    "$\\Pi$ intervient dans les variables car certaines contraintes en dépendent, mais la charge n'a pas d'influence directe sur la fonction coût."
   ]
  },
  {
   "cell_type": "markdown",
   "metadata": {},
   "source": [
    "## Partie II : Etude et résolution numérique"
   ]
  },
  {
   "cell_type": "markdown",
   "metadata": {},
   "source": [
    "Pour cette partie, nous utilisons les notations et le formalisme du corrigé de la première partie"
   ]
  },
  {
   "cell_type": "markdown",
   "metadata": {},
   "source": [
    "On note\n",
    "\n",
    "$$ f \\colon(D^d, W^{supp}, \\Pi) \\in \\mathbb{R}^{N_{cana} + N_{SC} + N_{n}} \\to \\mathbb{R} $$\n",
    "\n",
    "$$(D ,P, \\Pi) \\mapsto \\alpha \\sum_{(i,j) \\in Cana} L_{ij} D^d_{ij} + \\beta \\sum_{(i,j) \\in SC} W_{ij}^{supp}$$\n",
    "\n",
    "sous les contraintes :\n",
    "\n",
    "$$ c_1 : \\pi_i - \\pi_j = \\frac{\\lambda_{PDC} L_{ij} Q_{ij}^2}{({D_{ij}^{in}}^{5/2} + {D_{ij}^d}^{5/2})^2} \\,, (i,j) \\in Cana $$\n",
    "\n",
    "$$ c_2 : \\lambda_C Q_{ij} \\ln \\left( \\frac{\\pi_j}{\\pi_i} \\right) - W_{ij}^{supp} - W^{in}_{ij} \\leq 0 \\,, (i,j) \\in SC $$\n",
    "\n",
    "$$ c_3 : \\pi_i - \\pi_j \\leq 0 \\,, (i,j) \\in SC $$\n",
    "\n",
    "$$ c_4 : \\Pi_m \\leq \\Pi \\leq \\Pi_M $$\n",
    "\n",
    "$$ c_5 : D_m \\leq D_{ij}^d \\leq D_M \\,, (i,j) \\in Cana $$\n",
    "\n",
    "$$ c_6 : W_m \\leq W_{ij}^{supp} \\leq W_M \\,, (i,j) \\in SC $$\n",
    "\n",
    "f est une forme linéaire, donc convexe.\n",
    "Son domaine de définition et son ensemble d'arrivée sont convexes.\n"
   ]
  },
  {
   "cell_type": "markdown",
   "metadata": {},
   "source": [
    "La seconde contrainte n'est pas convexe dans le cas général.\n",
    "En effet, si on note \n",
    "$$\n",
    "\\begin{align*}\n",
    "  g \\colon \\mathbb{R}^2 &\\to \\mathbb{R}\\\\\n",
    "  (\\pi_i, \\pi_j) &\\mapsto \\lambda_CQ_{ij}\\ln \\left( \\frac{\\pi_j}{\\pi_i} \\right)\n",
    "\\end{align*}\n",
    "$$\n",
    "\n",
    "On a $\\nabla^2g(\\pi_i, \\pi_j) = \\lambda_CQ_{ij}\\begin{bmatrix} \\frac{1}{\\pi_i^2} & 0\\\\ 0 & \\frac{-1}{\\pi_j^2} \\end{bmatrix}$. Avec $\\lambda_CQ_{ij} \\geq 0$. Ce hessien n'est pas positif, donc g n'est pas convexe.\n",
    "\n",
    "Or $-W_{ij}^{supp} - W_{ij}^{in}$ est linéaire en les arguments de f, donc $C_2$ n'est pas convexe.\n",
    "En revanche, $C_3$, $C_4$, $C_5$ et $C_6$ sont affines donc convexes."
   ]
  },
  {
   "cell_type": "markdown",
   "metadata": {},
   "source": [
    "Mais si on considère que cette contrainte est une contrainte égalité si $W_{ij}^{in} = 0$, alors nous pouvons changer l'ensemble de départ de f pour que le problème soit plus simple à résoudre.\n",
    "\n",
    "\n",
    "En effet, on va considérer comme variables les charges aux noeuds de sous graphes des graphes de canalisation et de stations tels que \n",
    "\n",
    "$(P)$ : l'union des composantes connexes de ces neouds dans les deux graphes soient égales aux deux graphes.\n",
    "\n",
    "En d'autres termes, ce sont des noeuds qui permettent de connaître la charge dans tous les noeuds du réseau si on connait leur charge.\n",
    "\n",
    "Pour construire cet ensemble, on prend comme ensemble de départ le réseau tout entier, et on enlève des noeuds tant que cela est possible et que $(P)$ est vérifié.\n",
    "On obtient ainsi un ensemble $N_m$ minimal de noeuds qui permettent de connaître la charge de tous les noeuds du réseau, et $\\forall (n_i, n_j) \\in N_m , (n_i, n_j) \\notin Cana \\mbox{ et } (n_i, n_j) \\notin SC$\n",
    "\n",
    "On peut alors trouver une fonction h, qui permet d'obtenir le vecteur $\\Pi$ à partir des charges sur l'ensemble $N_m$, en utilisant les contraintes $C_1$, $C_2$ et $C_3$.\n",
    "\n",
    "Le problème devient alors : \n"
   ]
  }
 ],
 "metadata": {
  "kernelspec": {
   "display_name": "Python 3",
   "language": "python",
   "name": "python3"
  },
  "language_info": {
   "codemirror_mode": {
    "name": "ipython",
    "version": 3
   },
   "file_extension": ".py",
   "mimetype": "text/x-python",
   "name": "python",
   "nbconvert_exporter": "python",
   "pygments_lexer": "ipython3",
   "version": "3.7.3"
  }
 },
 "nbformat": 4,
 "nbformat_minor": 2
}