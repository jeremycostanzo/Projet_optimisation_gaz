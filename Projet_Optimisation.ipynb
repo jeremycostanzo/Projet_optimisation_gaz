{
 "cells": [
  {
   "cell_type": "markdown",
   "metadata": {},
   "source": [
    "# Projet optimisation Amélys Jérémy"
   ]
  },
  {
   "cell_type": "markdown",
   "metadata": {},
   "source": [
    "## Partie I : Modélisation"
   ]
  },
  {
   "cell_type": "markdown",
   "metadata": {},
   "source": [
    "### Question  1"
   ]
  },
  {
   "cell_type": "markdown",
   "metadata": {},
   "source": [
    "On définit le prix d’une canalisation $c =p_c DL$\n",
    "avec : $D$ le diamètre de la canalisation, \n",
    "$L$ la longueur de la canalisation \n",
    "$p_c$ est une constante de coût en €/m2\n",
    "\n",
    "On définit le prix d’une station : $s = p_sP$ avec : $P$ la puissance installée en W et $p_s$ une constante en €/W\n",
    "\n",
    "On se donne un réseau de noeuds.\n",
    "Soit i, j des noeuds du réseau. On définit \n",
    "\n",
    "$$\n",
    "\\delta_{i,j} = \\left\\{\n",
    "    \\begin{array}{ll}\n",
    "        1\\ \\mbox{si }i\\mbox{ et }j\\mbox{ sont reliés} \\\\\n",
    "        0\\mbox{ sinon}\n",
    "    \\end{array}\n",
    "\\right.\n",
    "$$\n",
    "On note $L_{i,j}$ la distance entre les noeuds $i$ et $j$.\n",
    "\n",
    "Ainsi la fonction objectif du problème est:\n",
    "\n",
    "$$\n",
    "\\begin{align*}\n",
    "  f \\colon (\\mathbb{R}^{n^2})^2 &\\to \\mathbb{R}\\\\\n",
    "  (D_{i,j},P_{i,j})_{1 \\leq i,j \\leq n} &\\mapsto \\sum_{1 \\leq i,j \\leq n} (p_c D_{i,j}L_{i,j} + p_sP_{i,j})\\delta_{i,j}\n",
    "\\end{align*}\n",
    "$$"
   ]
  }
 ],
 "metadata": {
  "kernelspec": {
   "display_name": "Python 3",
   "language": "python",
   "name": "python3"
  },
  "language_info": {
   "codemirror_mode": {
    "name": "ipython",
    "version": 3
   },
   "file_extension": ".py",
   "mimetype": "text/x-python",
   "name": "python",
   "nbconvert_exporter": "python",
   "pygments_lexer": "ipython3",
   "version": "3.7.3"
  }
 },
 "nbformat": 4,
 "nbformat_minor": 2
}
