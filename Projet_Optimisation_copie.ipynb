{
 "cells": [
  {
   "cell_type": "markdown",
   "metadata": {},
   "source": [
    "# Projet optimisation Amélys Jérémy"
   ]
  },
  {
   "cell_type": "markdown",
   "metadata": {},
   "source": [
    "## Partie I : Modélisation"
   ]
  },
  {
   "cell_type": "markdown",
   "metadata": {},
   "source": [
    "### Question  1"
   ]
  },
  {
   "cell_type": "markdown",
   "metadata": {},
   "source": [
    "On définit le prix d’une canalisation $c =p_c DL$\n",
    "avec : $D$ le diamètre de la canalisation, \n",
    "$L$ la longueur de la canalisation \n",
    "$p_c$ est une constante de coût en €/m2\n",
    "\n",
    "On définit le prix d’une station : $s = p_sP$ avec : $P$ la puissance installée en W et $p_s$ une constante en €/W\n",
    "\n",
    "On se donne un réseau de noeuds.\n",
    "Soit i, j des noeuds du réseau. On définit \n",
    "\n",
    "$$\n",
    "\\delta_{i,j} = \\left\\{\n",
    "    \\begin{array}{ll}\n",
    "        1\\ \\mbox{si }i\\mbox{ et }j\\mbox{ sont reliés} \\\\\n",
    "        0\\mbox{ sinon}\n",
    "    \\end{array}\n",
    "\\right.\n",
    "$$\n",
    "On note $L_{i,j}$ la distance entre les noeuds $i$ et $j$.\n",
    "\n",
    "Ainsi la fonction objectif du problème est:\n",
    "\n",
    "$$ \n",
    "f \\colon(D^d, W) \\in \\mathbb{R}^{N_{cana} + N_{SC} + N_{n}} \\to \\mathbb{R} \\\\\n",
    "(D ,W, \\Pi) \\mapsto \\alpha \\sum_{(i,j) \\in Cana} L_{ij} D^d_{ij} + \\beta \\sum_{(i,j) \\in SC} W_{ij} \n",
    "$$\n",
    "\n",
    "\n",
    "\n",
    "Nous avons considéré que tous les points reliés ont une canalisation de diamètre non nul, et qu'une station peut ou non exister.\n",
    "\n",
    "Donc s'il y a une station entre $i$ et $j$, on rajoute une puissance de compression sur une canalisation existante (il faut bien qu'il y ait du fluide qui traverse)."
   ]
  },
  {
   "cell_type": "markdown",
   "metadata": {},
   "source": [
    "### Question  2"
   ]
  },
  {
   "cell_type": "markdown",
   "metadata": {},
   "source": [
    "Pour calculer la perte de charge le long d'une canalisation, on prend l'équation :\n",
    "$$\n",
    "\\Delta P^2 = 25.2 (\\frac{S Q_g^2 Z T f L}{d^5})\n",
    "$$\n",
    "\n",
    "On note $ K = 25.2 Z T f S $, on suppose K constant. Et on note $C$ la constante telle que $\\Delta P^2 = C \\frac{S L}{d^5}$.\n",
    "$C \\neq K$ car il faut prendre en compte les conversions d'unité pour qu'on puisse imposer :\n",
    "- $L$ longueur en $10^3 km$\n",
    "- $Q_g$ débit en $Mm^3/h$\n",
    "- $d$ diamètre du tuyau en $m$\n"
   ]
  },
  {
   "cell_type": "markdown",
   "metadata": {},
   "source": [
    "### Question  3"
   ]
  },
  {
   "cell_type": "markdown",
   "metadata": {},
   "source": [
    "On se place en régime permanent.\n",
    "\n",
    "On définit $v_{ij}$ vitesse de l’écoulement dans la canalisation ij : \n",
    "$v_{ij}= \\frac{D_v}{S_{ij}}$ avec $S_{ij}= \\pi (\\frac{D_{ij}}{2})^2$ surface de la canalisation.\n",
    "On fait l’hypothèse de compression adiabatique dans la station de compression.\n",
    "On se place dans l’hypothèse des gazs parfaits. La température est supposée constante.\n",
    "\n",
    "Ainsi on a $U = U(T) = constante$, ie $\\Delta U = 0$.\n",
    "\n",
    "D’après le premier principe de la thermodynamique, $\\Delta U + \\Delta (PV)= W + Q$.\n",
    "La compression est adiabatique et $W = \\dot{w} \\Delta t$ .\n",
    "\n",
    "Ainsi $\\Delta (PV) = \\dot{w} \\Delta t$.\n",
    "\n",
    "Le débit est supposé constant dans les canalisations qui sont de diamètre constant, on a donc $\\Delta (PV) = V \\Delta P = \\dot{w} \\Delta t$  d’où $\\Delta P = \\frac{\\dot{w} \\Delta t}{V} = \\frac{\\dot{w} \\Delta t}{D_v \\Delta t} = \\frac{\\dot{w}}{D_v}$.\n",
    "\n"
   ]
  },
  {
   "cell_type": "markdown",
   "metadata": {},
   "source": [
    "### Question  4"
   ]
  },
  {
   "cell_type": "markdown",
   "metadata": {},
   "source": [
    "Les variables de décision sont $Pr_1$, et l’ensemble des couples $(D_{ij}, P_{ij})$ entre les points i et j reliés. \n",
    "\n",
    "Les contraintes sont : \n",
    "\n",
    "- Contraintes sur les diamètres :\n",
    "\n",
    "    1 : $\\forall i, j \\in [1, n]^2, D_{ij} - 1.5 \\leq 0$\n",
    "    \n",
    "    2 : $\\forall i, j \\in [1, n]^2, 0.3 - D_{ij} \\leq 0$\n",
    "\n",
    "- Contraintes sur les pressions :\n",
    "\n",
    "    3 : $\\forall i \\in [1, n], Pr_i - 68 \\leq 0$ où $Pr_i$ est la pression en bar au point i \n",
    "\n",
    "    4 : $\\forall i \\in [1, n], 45 - Pr_i \\leq 0 $\n",
    "\n",
    "    5 : $\\forall i \\in [1,n], \\exists A \\in \\mathbb{R}\\:| \\: \\forall j \\in \\bar{d} (i), Pr_j - \\sqrt{\\frac{C Q_{ij}^2 L_{ij}}{(D_{ij}^{0} + D_{ij})^5}} + \\frac{P_{ij}}{Q_{ij}} - A = 0$\n",
    "\n",
    "    où\n",
    "    \n",
    "     - $\\bar{d} (i)$ ensemble des noeuds appartenant à un arc ayant i pour extrémité\n",
    "     - $Q_{ij}$ débit de i à j\n",
    "     - $L_{ij}$ longueur qui sépare les noeuds i et j\n",
    "     - $D_{ij}^{0}$ dimaètre initial de canalisation entre i et j\n",
    "    \n",
    "  Cette contrainte revient à dire que peu importe la façon de calculer la pression au noeud i, on obtient la même.\n",
    "  \n",
    "\n",
    "- Contraintes sur les débits (qui sont imposés par le réseau) :\n",
    "\n",
    "    6 : $Q_{in} - 2 = 0 Mm^3/h$\n",
    "\n",
    "    7 : $Q_{out} - 1 = 0 Mm^3/h$\n",
    "    \n",
    "    8 : $\\forall i \\in [1, n], \\sum\\limits_{j \\in \\bar{d} (i)} (débit \\, entrant\\, sur \\,l'arc \\, (j, i) \\, au \\, noeud \\, i) = 0$\n",
    "\n",
    "    où $\\bar{d} (i)$ ensemble des noeuds appartenant à un arc ayant i pour extrémité.\n",
    "\n",
    "- Contraintes sur les stations de compression :\n",
    "\n",
    "    9 : $\\forall i, j \\in [1, n]^2, W_{ij} \\leq W_{max}$ où $W_{max}$ est fixée\n",
    "\n",
    "    10 : $\\forall i, j \\in [1, n]^2, W_{ij} \\geq 0$\n",
    "\n",
    "    Cette contrainte me paraît assez évidente, mais on pourrait imaginer gagner de l'argent en réduisant la puissance du fluide. Cela ne fonctionne pas comme ça en pratique !\n",
    "    "
   ]
  },
  {
   "cell_type": "markdown",
   "metadata": {},
   "source": [
    "On obtient ainsi une formulation du problème : \n",
    "\n",
    "$$ \\min_{(D, P, \\Pi ) \\in (\\mathbb{R}^{n^2})^3} f(D, P)$$\n",
    "\n",
    "sous les contraintes :\n",
    "$$ C_i (D, P, \\Pi) \\leq 0 , \\: C_e (D, P, \\Pi) = 0$$\n",
    "\n",
    "où $C_i (D, P, \\Pi)$ sont les contraintes inégalités définies ci-dessus, et $C_e (D, P, \\Pi)$ sont les contraintes égalités.\n",
    "\n",
    "$\\Pi$ intervient dans les variables car certaines contraintes en dépendent, mais la charge n'a pas d'influence directe sur la fonction coût."
   ]
  },
  {
   "cell_type": "markdown",
   "metadata": {},
   "source": [
    "## Partie II : Etude et résolution numérique"
   ]
  },
  {
   "cell_type": "markdown",
   "metadata": {},
   "source": [
    "### Question 1"
   ]
  },
  {
   "cell_type": "markdown",
   "metadata": {},
   "source": [
    "Pour cette partie, nous utilisons les notations et le formalisme du corrigé de la première partie"
   ]
  },
  {
   "cell_type": "markdown",
   "metadata": {},
   "source": [
    "On note\n",
    "\n",
    "$$ \n",
    "f \\colon(D^d, W^{supp}, \\Pi) \\in \\mathbb{R}^{N_{cana} + N_{SC} + N_{n}} \\to \\mathbb{R} \\\\\n",
    "(D ,P, \\Pi) \\mapsto \\alpha \\sum_{(i,j) \\in Cana} L_{ij} D^d_{ij} + \\beta \\sum_{(i,j) \\in SC} W_{ij}^{supp} \n",
    "$$\n",
    "\n",
    "sous les contraintes :\n",
    "\n",
    "$$ \n",
    "c_1 : \\pi_i - \\pi_j = \\frac{\\lambda_{PDC} L_{ij} Q_{ij}^2}{({D_{ij}^{in}}^{5/2} + {D_{ij}^d}^{5/2})^2} \\,, (i,j) \\in Cana \\\\\n",
    "c_2 : \\lambda_C Q_{ij} \\ln \\left( \\frac{\\pi_j}{\\pi_i} \\right) - W_{ij}^{supp} - W^{in}_{ij} \\leq 0 \\,, (i,j) \\in SC \\\\\n",
    "c_3 : \\pi_i - \\pi_j \\leq 0 \\,, (i,j) \\in SC \\\\\n",
    "c_4 : \\Pi_m \\leq \\Pi \\\\\n",
    "c_5 : \\Pi \\leq \\Pi_M \\\\\n",
    "c_6 : D_m \\leq D_{ij}^d\\ ,\\ (i,j) \\in Cana \\\\\n",
    "c_7 : D_{ij}^d \\leq D_M \\,, (i,j) \\in Cana \\\\\n",
    "c_8 : W_m \\leq W_{ij}^{supp} \\,, (i,j) \\in SC \\\\\n",
    "c_9 : W_{ij}^{supp} \\leq W_M \\,, (i,j) \\in SC\n",
    "$$\n",
    "\n",
    "f est une forme linéaire, donc convexe.\n",
    "Son domaine de définition et son ensemble d'arrivée sont convexes.\n"
   ]
  },
  {
   "cell_type": "markdown",
   "metadata": {},
   "source": [
    "La seconde contrainte n'est pas convexe dans le cas général.\n",
    "En effet, si on note \n",
    "$$\n",
    "\\begin{align*}\n",
    "  g \\colon \\mathbb{R}^2 &\\to \\mathbb{R}\\\\\n",
    "  (\\pi_i, \\pi_j) &\\mapsto \\lambda_CQ_{ij}\\ln \\left( \\frac{\\pi_j}{\\pi_i} \\right)\n",
    "\\end{align*}\n",
    "$$\n",
    "\n",
    "On a $\\nabla^2g(\\pi_i, \\pi_j) = \\lambda_CQ_{ij}\\begin{bmatrix} \\frac{1}{\\pi_i^2} & 0\\\\ 0 & \\frac{-1}{\\pi_j^2} \\end{bmatrix}$. Avec $\\lambda_CQ_{ij} \\geq 0$. Ce hessien n'est pas positif, donc g n'est pas convexe.\n",
    "\n",
    "Or $-W_{ij}^{supp} - W_{ij}^{in}$ est linéaire en les arguments de f, donc $C_2$ n'est pas convexe.\n",
    "En revanche, $C_3$, $C_4$, $C_5$, $C_6$, $C_7$, $C_8$, $C_9$ sont affines donc convexes."
   ]
  },
  {
   "cell_type": "markdown",
   "metadata": {},
   "source": [
    "Mais si on considère que cette contrainte est une contrainte égalité si $W_{ij}^{in} = 0$, alors nous pouvons changer l'ensemble de départ de f pour que le problème soit plus simple à résoudre.\n",
    "\n",
    "En effet, on va considérer comme variables les charges aux noeuds de sous graphes des graphes de canalisation et de stations tels que \n",
    "\n",
    "$(P)$ : l'union des composantes connexes de ces noe\n",
    "uds dans les deux graphes soient égales aux deux graphes.\n",
    "\n",
    "En d'autres termes, ce sont des noeuds qui permettent de connaître la charge dans tous les noeuds du réseau si on connait leur charge.\n",
    "\n",
    "Pour construire cet ensemble, on prend comme ensemble de départ le réseau tout entier, et on enlève des noeuds tant que cela est possible et que $(P)$ est vérifié.\n",
    "On obtient ainsi un ensemble $N_r$ minimal de noeuds qui permettent de connaître la charge de tous les noeuds du réseau, et $\\forall (n_i, n_j) \\in N_r , (n_i, n_j) \\notin Cana \\mbox{ et } (n_i, n_j) \\notin SC$\n",
    "\n",
    "On peut alors trouver une fonction h, qui permet d'obtenir le vecteur $\\Pi$ à partir des charges sur l'ensemble $N_r$, en utilisant les contraintes $C_1$, $C_2$ et $C_3$.\n",
    "\n",
    "On remarque aussi que $c_3$ est toujours vérifiée si $c_8$ est vérifiée :\n",
    "\n",
    "$\\forall (i,j) \\in SC,\\ \\lambda_cQ_{ij}ln\\left(\\frac{\\pi_i}{\\pi_j}\\right) = W_{ij}^{supp}$\n",
    "\n",
    "Donc\n",
    "\n",
    "$\\forall (i,j) \\in SC,\\ ln(\\pi_j) = ln(\\pi_i) + \\left(\\frac{W_{ij}}{\\lambda_cQ_{ij}}\\right)$\n",
    "\n",
    "$c_8$ est véfifiée, donc $W_{ij} \\geq W_m \\geq 0$ (une puissance négative n'a pas de sens ici)\n",
    "\n",
    "$\\lambda_c \\geq 0$\n",
    "\n",
    "$Q_{ij} \\geq 0$ car $(i,j) \\in SC$\n",
    "\n",
    "Donc $ln(\\pi_j) \\geq ln(\\pi_i)$ donc $\\pi_j \\geq \\pi_i$ et $c_3$ est vérifiée.\n",
    "\n",
    "Le problème devient alors : \n",
    "$$\n",
    "\\min_{(D^d, W^{supp}, \\Pi_r) \\in \\mathbb{R}^{N_{cana} + N_{SC} + Card(N_r)}}\n",
    " \\alpha \\sum_{(i,j) \\in Cana} L_{ij} D^d_{ij} + \\beta \\sum_{(i,j) \\in SC} W_{ij}^{supp} \n",
    "$$\n",
    "\n",
    "Sous les contraintes :\n",
    "\n",
    "$$ \n",
    "c_4 : \\Pi_m \\leq \\Pi \\\\\n",
    "c_5 : \\Pi \\leq \\Pi_M \\\\\n",
    "c_6 : D_m \\leq D_{ij}^d\\ ,\\ (i,j) \\in Cana \\\\\n",
    "c_7 : D_{ij}^d \\leq D_M \\,, (i,j) \\in Cana \\\\\n",
    "c_8 : W_m \\leq W_{ij}^{supp} \\,, (i,j) \\in SC \\\\\n",
    "c_9 : W_{ij}^{supp} \\leq W_M \\,, (i,j) \\in SC\n",
    "$$\n",
    "\n",
    "où $\\Pi = h(\\Pi_r)$\n"
   ]
  },
  {
   "cell_type": "markdown",
   "metadata": {},
   "source": [
    "$c_6$, $c_7$, $c_8$ et $c_9$ sont affines donc convexes.\n",
    "\n",
    "Il s'agit maintenant d'étudier $c_4$ et $c_5$.\n",
    "\n",
    "On distingue deux cas :\n",
    "\n",
    "   - (1) : $\\pi_i \\in N_r$\n",
    "   - (2) : $\\pi_i \\notin N_r$\n",
    "    \n",
    "Si $\\pi_i \\in N_r$, alors $c_{4i}$ et $c_{5i}$ sont affines donc convexes.\n",
    "\n",
    "Sinon $\\pi_i = h(\\Pi_r)_i$\n",
    "\n",
    "Et alors la contrainte n'est pas forcément convexe, car la hessienne de \n",
    "$$\n",
    "(\\pi_i,\\ D_{ij}) \\mapsto \\pi_i - \\left(\\frac{\\lambda{pdc}L_{ij}Q_{ij}^2}{\\left(D_{in}^{\\frac{5}{2}} + D_{ij}^{\\frac{5}{2}}\\right)^2}\\right)\n",
    "$$\n",
    "\n",
    "est : $\\begin{bmatrix} 0 & 0\\\\ 0 & A(D_{ij}) \\end{bmatrix}$\n",
    "\n",
    "où le signe de $A(D_{ij})$ dépend de celui de $D_{ij}^{in} - D_{ij}$\n",
    "\n",
    "Donc elle n'est pas positive dans le cas général."
   ]
  },
  {
   "cell_type": "markdown",
   "metadata": {},
   "source": [
    "#### Unicité et existence"
   ]
  },
  {
   "cell_type": "markdown",
   "metadata": {},
   "source": [
    "Ces contraintes ne sont pas convexes, donc on ne peut pas garantir l'unicité de la solution dans le cas général.\n",
    "Mais notre ensemble de définition est borné donc une solution existe car la fonction est continue car linéaire.\n",
    "\n",
    "La fonction coût étant linéaire, un minimum est atteint lorsqu'une contrainte inégalité est active au moins, car son gradient est constant donc ne peut pas s'annuler."
   ]
  },
  {
   "cell_type": "markdown",
   "metadata": {},
   "source": [
    "### Question 2"
   ]
  },
  {
   "cell_type": "markdown",
   "metadata": {},
   "source": [
    "Nous allons cependant utiliser la formulation du corrigé et utiliser l'algorithme d'Uzawa, qui permet d'effectuer des calculs. Celui-ci semble adapté à notre problème, car notre fonction est linéaire, son gradient est facile à calculer.\n",
    "\n"
   ]
  },
  {
   "cell_type": "markdown",
   "metadata": {},
   "source": [
    "Donc nous utilisons les contraintes suivantes :\n",
    "$$\n",
    "  c_e : \\mathbb{R}^{N_{cana}+N_{SC}+N_N} \\to \\mathbb{R}^{N_{cana}+N_{SC}}\\\\\n",
    "  (D,P,\\Pi) \\mapsto \\left(\\pi_i - \\pi_j - \\frac{\\lambda_{PDC} L_{ij} Q_{ij}^2}{({D_{ij}^{in}}^{5/2} + {D_{ij}^d}^{5/2})^2} \\,, (i,j) \\in Cana ,\\ \\lambda_C Q_{ij} \\ln \\left( \\frac{\\pi_j}{\\pi_i} \\right) - W_{ij}^{supp} - W^{in}_{ij} \\leq 0 \\,, (i,j) \\in SC\\right) \n",
    "$$\n",
    "\n",
    "$$\n",
    "  c_i : \\mathbb{R}^{N_{cana}+N_{SC}+N_N} \\to \\mathbb{R}^{N_{SC} + 2N_N + 2N_{cana} + 2N_{SC}}\\\\\n",
    "  (D,P,\\Pi) \\mapsto \\left(\\pi_i - \\pi_j\\ \\forall\\ (i,j) \\in SC,\\ \\Pi_m - \\Pi_i\\ \\forall i\\in[1,N_n],\\ \\Pi_i - \\Pi_M\\ \\forall i\\in[1,N_n],\\ D_m-D_{ij}\\ \\forall(i,j)\\in Cana,\\ D_{ij}-D_M\\ \\forall (i,j)\\in Cana,\\ P_m-D_{ij}\\ \\forall(i,j)\\in SC,\\ P_{ij}-P_M\\ \\forall (i,j)\\in SC\\right) \n",
    "$$"
   ]
  },
  {
   "cell_type": "markdown",
   "metadata": {},
   "source": [
    "Et on définit le lagrangien :\n",
    "$$\n",
    "  \\mathcal{L} : \\mathbb{R}^{(N_{cana}+N_{SC}+N_N) +(N_{cana}+N_{SC}) +(N_{SC} + 2N_N + 2N_{cana} + 2N_{SC})} \\to \\mathbb{R}\\\\\n",
    "  (D^d,W,\\Pi,\\lambda,\\mu) \\mapsto f(D^d,W) + \\lambda^Tc_e(D^d,W,\\Pi) + \\mu^Tc_i(D^d,W,\\pi)\n",
    "$$\n",
    "\n",
    "Que l'on va minimiser par rapport à $x := (D,W,\\pi)$, et maximiser par rapport à $\\lambda$ et $\\mu$ grâce à l'algorithme d'Uzawa en projetant $\\mu$ sur $\\mathbb{R}^{+ (N_{SC} + 2N_N + 2N_{cana} + 2N_{SC})}$ à chaque itération."
   ]
  },
  {
   "cell_type": "markdown",
   "metadata": {},
   "source": [
    "On utilise pour la suite $x := (D^d,W,\\pi)$\n",
    "\n",
    "Pour cela, il faut calculer le gradient de ce lagrangien.\n",
    "Il vaut : \n",
    "\n",
    "$\\nabla_x \\mathcal{L}(x,\\lambda , \\mu) = \\nabla f(x) + J_{c_e}(x)^T\\lambda + J_{c_i}(x)^T\\mu\\\\\n",
    "\\nabla_{\\lambda}\\mathcal{L}(x,\\lambda,\\mu) = c_e^T(x)\\\\\n",
    "\\nabla_{\\mu}\\mathcal{L}(x,\\lambda,\\mu) = c_i^T(x)$\n",
    "\n",
    "où $J_{c_k}(x)$ est la jacobienne de $c_k$ évaluée en $x$.\n",
    "\n",
    "Nous avons calculé les deux jacobiennes et les contraintes :"
   ]
  },
  {
   "cell_type": "code",
   "execution_count": 101,
   "metadata": {},
   "outputs": [],
   "source": [
    "#fonctions utiles.py\n",
    "import numpy as np\n",
    "import matplotlib.pyplot as plt\n",
    "from scipy import optimize\n",
    "\n",
    "alpha = 1\n",
    "beta = 10\n",
    "lambdaC = 1\n",
    "lambdaPDC = 4000\n",
    "puissance_min = 0\n",
    "puissance_max = 23e6\n",
    "pression_max = 68\n",
    "pression_min = 45\n",
    "P_M = pression_max**2\n",
    "P_m = pression_min**2\n",
    "D_m = 0.3\n",
    "D_M = 1.5\n",
    "\n",
    "L = np.array([[0, 0.5, None, None, 0.25], [0.5, 0, None, None, None],\n",
    "            [None, None, 0, 0.5, None], [None, None, 0.5, 0, 1], \n",
    "            [0.25, None, None, 1, 0]])\n",
    "\n",
    "D0 = np.array([[0, 1.5, None, None, 1.5], [1.5, 0, None, None, None],\n",
    "            [None, None, 0, 1.5, None], [None, None, 1.5, 0, 1.5], \n",
    "            [1.5, None, None, 1.5, 0]])\n",
    "\n",
    "D_in = np.array([[0, 0.395, None, None, 0.5], [0.395, 0, None, None, None],\n",
    "            [None, None, 0, 0.395, None], [None, None, 0.395, 0, 0.5], \n",
    "            [0.5, None, None, 0.5, 0]])\n",
    "\n",
    "Q = np.array([[2, 0.5, None, None, 0.45], [-0.5, 0, 0.5, None, None],\n",
    "            [None, -0.5, 0, 0.5, None], [None, None, -0.5, 1, 0.45], \n",
    "            [-0.45, None, None, -0.45, 0]])\n",
    "\n",
    "P0 = np.array([46.32, 45.66, 45.66, 45, 46.05])**2\n",
    "\n",
    "W = 0\n",
    "\n",
    "Cana = [(1, 2), (3, 4), (1, 5), (5, 4)]\n",
    "SC = [(2, 3)]\n",
    "\n",
    "N = 5\n",
    "\n",
    "D0_uzawa = np.array([D0[i-1, j-1] for (i, j) in Cana])\n",
    "\n",
    "\n",
    "def f(x):\n",
    "    D = x[0:len(Cana)]\n",
    "    W = x[len(Cana)]\n",
    "    P = x[len(Cana)+1:]\n",
    "    s1 = 0\n",
    "    s2 = 0\n",
    "    for i in range(len(Cana)):\n",
    "        s1 += L[Cana[i][0]-1, Cana[i][1]-1]*D[i]\n",
    "    for i in range(len(SC)):\n",
    "        s2 += W\n",
    "    return alpha*s1 + beta*s2\n",
    "\n",
    "def grad_f(x):\n",
    "    D = x[0:len(Cana)]\n",
    "    W = x[len(Cana)]\n",
    "    P = x[len(Cana)+1:]\n",
    "    return np.array([alpha*L[0, 1], alpha*L[2, 3], alpha*L[0, 4], alpha*L[4, 3]] + [beta] + [0, 0, 0, 0, 0])\n",
    "\n",
    "def ce(x):\n",
    "    D = x[0:len(Cana)]\n",
    "    W = x[len(Cana)]\n",
    "    P = x[len(Cana)+1:]\n",
    "    a = np.array([(P[i-1] - P[j-1] - lambdaPDC*L[i-1, j-1]*Q[i-1, j-1]**2)/P_M for (i,j) in Cana] + [(lambdaC*Q[1, 2]*np.log(P[2]/P[1]) - W)/puissance_max])\n",
    "    a = a/P_M\n",
    "    return a\n",
    "\n",
    "def ci(x):\n",
    "    D = x[0:len(Cana)]\n",
    "    W = x[len(Cana)]\n",
    "    P = x[len(Cana)+1:]\n",
    "    #P = np.transpose(P)\n",
    "    #D = np.transpose(D)\n",
    "    pm = np.array([(puissance_min - W)/puissance_max])\n",
    "    pM = np.array([(W - puissance_max)/puissance_max])\n",
    "    Charg = np.array([(P[1] - P[2])/P_M])\n",
    "    a = np.concatenate([Charg, (P_m - P)/P_M, (P - P_M)/P_M, (D_m - D)/D_M, (D - D_M)/D_M, pm, pM])\n",
    "    return a\n",
    "\n",
    "\n",
    "def Jce(x):\n",
    "    D = x[0:len(Cana)]\n",
    "    W = x[len(Cana)]\n",
    "    P = x[len(Cana)+1:]\n",
    "    d1 = 5*lambdaPDC*L[0, 1]*Q[0, 1]**2*D[0]**(3/2)/(D_in[0, 1]**(5/2) + D[0]**(5/2))**2 / P_M\n",
    "    d2 = 5*lambdaPDC*L[2, 3]*Q[2, 3]**2*D[1]**(3/2)/(D_in[2, 3]**(5/2) + D[1]**(5/2))**2 / P_M\n",
    "    d3 = 5*lambdaPDC*L[0, 4]*Q[0, 4]**2*D[2]**(3/2)/(D_in[0, 4]**(5/2) + D[2]**(5/2))**2 / P_M\n",
    "    d4 = 5*lambdaPDC*L[4, 3]*Q[4, 3]**2*D[3]**(3/2)/(D_in[4, 3]**(5/2) + D[3]**(5/2))**2 / P_M\n",
    "    dp1 = - lambdaC*Q[1, 2]/P[1]\n",
    "    dp2 = lambdaC*Q[1, 2]/P[2]\n",
    "    return np.array([[d1, 0, 0, 0, 0, 1, -1, 0, 0, 0],\n",
    "                    [0, d2, 0, 0, 0, 0, 0, 1, -1, 0],\n",
    "                    [0, 0, d3, 0, 0, 1, 0, 0, 0, -1],\n",
    "                    [0, 0, 0, d4, 0, 0, 0, 0, -1, 1],\n",
    "                    [0, 0, 0, 0, -1, 0, dp1, dp2, 0,0]])\n",
    "\n",
    "def Jci(x):\n",
    "    return np.array([[0, 0, 0, 0, 0, 0, 1, -1, 0, 0],\n",
    "                    [0, 0, 0, 0, 0, -1, 0, 0, 0, 0],\n",
    "                    [0, 0, 0, 0, 0, 0, -1, 0, 0, 0],\n",
    "                    [0, 0, 0, 0, 0, 0, 0, -1, 0, 0],\n",
    "                    [0, 0, 0, 0, 0, 0, 0, 0, -1, 0],\n",
    "                    [0, 0, 0, 0, 0, 0, 0, 0, 0, -1],\n",
    "                    [0, 0, 0, 0, 0, 1, 0, 0, 0, 0],\n",
    "                    [0, 0, 0, 0, 0, 0, 1, 0, 0, 0],\n",
    "                    [0, 0, 0, 0, 0, 0, 0, 1, 0, 0],\n",
    "                    [0, 0, 0, 0, 0, 0, 0, 0, 1, 0],\n",
    "                    [0, 0, 0, 0, 0, 0, 0, 0, 0, 1],\n",
    "                    [-1, 0, 0, 0, 0, 0, 0, 0, 0, 0],\n",
    "                    [0, -1, 0, 0, 0, 0, 0, 0, 0, 0],\n",
    "                    [0, 0, -1, 0, 0, 0, 0, 0, 0, 0],\n",
    "                    [0, 0, 0, -1, 0, 0, 0, 0, 0, 0],\n",
    "                    [1, 0, 0, 0, 0, 0, 0, 0, 0, 0],\n",
    "                    [0, 1, 0, 0, 0, 0, 0, 0, 0, 0],\n",
    "                    [0, 0, 1, 0, 0, 0, 0, 0, 0, 0],\n",
    "                    [0, 0, 0, 1, 0, 0, 0, 0, 0, 0],\n",
    "                    [0, 0, 0, 0, -1, 0, 0, 0, 0, 0],\n",
    "                    [0, 0, 0, 0, 1, 0, 0, 0, 0, 0]])\n",
    "\n",
    "def lag(x,lamb,mu):\n",
    "    return f(x) + np.dot(lamb, ce(x)) + np.dot(mu,ci(x))\n",
    "\n",
    "def grad_lag(x,lamb,mu):\n",
    "    return grad_f(x) + np.dot(lamb,Jce(x)) + np.dot(mu, Jci(x))"
   ]
  },
  {
   "cell_type": "code",
   "execution_count": 122,
   "metadata": {},
   "outputs": [],
   "source": [
    "x0 = np.concatenate([D0_uzawa, np.array([W]), P0])\n",
    "lambda0 = np.array([1 for i in range(5)])\n",
    "mu0 = np.array([100 for i in range(21)])"
   ]
  },
  {
   "cell_type": "markdown",
   "metadata": {},
   "source": [
    "Nous avons adapté l'algorithme d'Uzawa du TP3 à notre problème, ce qui donne l'implémentation suivante :"
   ]
  },
  {
   "cell_type": "code",
   "execution_count": 123,
   "metadata": {},
   "outputs": [],
   "source": [
    "def wolfe_step(fun, grad_fun, xk, pk, c1 = 0.25, c2 = 0.75, M = 1000):\n",
    "    l_moins = 0\n",
    "    l_plus = 0\n",
    "    f_xk = fun(xk)\n",
    "    grad_f_xk = grad_fun(xk)/np.linalg.norm(grad_fun(xk))\n",
    "    li = 1 #0.0001\n",
    "    i = 0\n",
    "    while(i < M):\n",
    "        if (fun(xk+li*pk)>(f_xk+c1*li*np.dot(grad_f_xk,pk))):\n",
    "            l_plus = li\n",
    "            li = (l_moins+l_plus)/2.0\n",
    "        else:\n",
    "            if (np.dot(grad_fun(xk+li*pk),pk) < c2*np.dot(grad_f_xk,pk)):\n",
    "                l_moins = li\n",
    "                if (l_plus == 0):\n",
    "                    li = 2*li\n",
    "                else:\n",
    "                    li = (l_moins+l_plus)/2.0\n",
    "            else:\n",
    "                #print(\"Nb itérations : \", i)\n",
    "                return li\n",
    "        i = i + 1\n",
    "    #print(\"Trop d'itérations de Wolfe\")\n",
    "    return li\n",
    "\n",
    "\n",
    "def newton_BFGS_array(fun, grad_fun,lg, grad_lg, c_e, jac_e, c_i, jac_i, x0, lambda0, mu0, max_iter = 4, epsilon_grad_L = 1e-8):\n",
    "    k = 0\n",
    "    xk = np.copy(x0)\n",
    "    lambdak_array = np.copy(lambda0)\n",
    "    muk_array = np.copy(mu0)\n",
    "    Hk = np.identity(len(x0))\n",
    "    grad_Lagrangienk_xk = lg(xk,lambdak_array, muk_array)\n",
    "    while ((k<max_iter) and (np.linalg.norm(grad_Lagrangienk_xk)>epsilon_grad_L)):\n",
    "        Lagrangienk = lambda x : lg(x,lambdak_array,muk_array)\n",
    "        grad_Lagrangienk = lambda x : grad_lg(x, lambdak_array, muk_array)\n",
    "        grad_Lagrangienk_xk = grad_Lagrangienk(xk)\n",
    "        pk = -np.matmul(Hk,grad_Lagrangienk_xk)\n",
    "        lk = wolfe_step(Lagrangienk, grad_Lagrangienk, xk, pk)\n",
    "        xk1 = xk + lk*pk\n",
    "        #for i in range(4):\n",
    "        #    xk1[i] = np.maximum(xk1[i],D_m)\n",
    "        #xk1[4] = np.maximum(xk[5],puissance_min)\n",
    "        print(xk1)\n",
    "        grad_Lagrangienk_xk1 = grad_Lagrangienk(xk1)\n",
    "        sk = xk1 - xk\n",
    "        yk = grad_Lagrangienk_xk1 - grad_Lagrangienk_xk\n",
    "        gammak = 1.0/np.dot(yk, sk)\n",
    "        Ak = np.identity(len(x0)) - gammak*np.multiply(sk[:, np.newaxis], yk)\n",
    "        Bk = np.identity(len(x0)) - gammak*np.multiply(yk[:, np.newaxis], sk)\n",
    "        Hk = np.matmul(np.matmul(Ak, Hk), Bk) + gammak*np.multiply(sk[:, np.newaxis], sk)\n",
    "        xk = xk1         \n",
    "        print(xk)\n",
    "        for i in range(len(c_e(xk))):\n",
    "            rhok = np.dot(jac_e(xk)[i], np.matmul(Hk,jac_e(xk)[i]))\n",
    "            lambdak_array[i] = lambdak_array[i] + (1/rhok)*c_e(xk)[i]\n",
    "        for i in range(len(c_i(xk))):\n",
    "            rhok = np.dot(jac_i(xk)[i], np.matmul(Hk,jac_i(xk)[i]))\n",
    "            muk_array[i] = np.maximum(0,muk_array[i] + (1/rhok)*c_i(xk)[i])\n",
    "        k = k + 1\n",
    "    print(\"Nombre d'iterations : \", k)\n",
    "    print(\"lambdak_array : \", lambdak_array)\n",
    "    print(\"muk_array : \", muk_array)\n",
    "    return xk"
   ]
  },
  {
   "cell_type": "code",
   "execution_count": 127,
   "metadata": {},
   "outputs": [],
   "source": [
    "def uzawa_wolfe_step_array(fun, grad_fun,lg, grad_lg, c_e, jac_e, c_i, jac_i, x0, lambda0, mu0, rho, max_iter = 100000, epsilon_grad_L = 1e-8):\n",
    "    k = 0\n",
    "    xk = x0\n",
    "    lambdak_array = lambda0\n",
    "    muk_array = mu0\n",
    "    grad_Lagrangienk_xk = grad_lg(xk,lambdak_array,muk_array)\n",
    "    while ((k<max_iter) and (np.linalg.norm(grad_Lagrangienk_xk)>epsilon_grad_L)):\n",
    "        Lagrangienk = lambda x : lg(x,lambdak_array,muk_array)\n",
    "        grad_Lagrangienk = lambda x : grad_lg(x,lambdak_array,muk_array)\n",
    "        grad_Lagrangienk_xk = grad_Lagrangienk(xk)\n",
    "        pk = -grad_Lagrangienk_xk\n",
    "        lk = wolfe_step(Lagrangienk, grad_Lagrangienk, xk, pk)\n",
    "        xk = xk + lk*pk;    \n",
    "        lambdak_array = lambdak_array + rho*c_e(xk)\n",
    "        muk_array = np.maximum(0, muk_array + rho*c_i(xk))\n",
    "        k = k + 1\n",
    "    print(\"Nombre d'iterations : \", k)\n",
    "    print(\"lambdak_array : \", lambdak_array)\n",
    "    print(\"muk_array : \", muk_array)\n",
    "    return xk\n"
   ]
  },
  {
   "cell_type": "code",
   "execution_count": 131,
   "metadata": {},
   "outputs": [
    {
     "name": "stdout",
     "output_type": "stream",
     "text": [
      "[ 2.56072125e-01  2.56072125e-01  9.06441754e-01 -8.74232985e-01\n",
      " -1.80000000e+01  2.14154240e+03  1.88683608e+03  2.28283512e+03\n",
      "  2.02900000e+03  2.12060250e+03]\n",
      "[ 2.56072125e-01  2.56072125e-01  9.06441754e-01 -8.74232985e-01\n",
      " -1.80000000e+01  2.14154240e+03  1.88683608e+03  2.28283512e+03\n",
      "  2.02900000e+03  2.12060250e+03]\n"
     ]
    },
    {
     "name": "stderr",
     "output_type": "stream",
     "text": [
      "/home/jeremy/anaconda3/lib/python3.7/site-packages/ipykernel_launcher.py:93: RuntimeWarning: invalid value encountered in double_scalars\n"
     ]
    },
    {
     "ename": "ValueError",
     "evalue": "cannot convert float NaN to integer",
     "output_type": "error",
     "traceback": [
      "\u001b[0;31m---------------------------------------------------------------------------\u001b[0m",
      "\u001b[0;31mValueError\u001b[0m                                Traceback (most recent call last)",
      "\u001b[0;32m<ipython-input-131-3c0768e281c2>\u001b[0m in \u001b[0;36m<module>\u001b[0;34m\u001b[0m\n\u001b[0;32m----> 1\u001b[0;31m \u001b[0mnewton_BFGS_array\u001b[0m\u001b[0;34m(\u001b[0m\u001b[0mf\u001b[0m\u001b[0;34m,\u001b[0m \u001b[0mgrad_f\u001b[0m\u001b[0;34m,\u001b[0m \u001b[0mlag\u001b[0m\u001b[0;34m,\u001b[0m \u001b[0mgrad_lag\u001b[0m\u001b[0;34m,\u001b[0m \u001b[0mce\u001b[0m\u001b[0;34m,\u001b[0m \u001b[0mJce\u001b[0m\u001b[0;34m,\u001b[0m \u001b[0mci\u001b[0m\u001b[0;34m,\u001b[0m \u001b[0mJci\u001b[0m\u001b[0;34m,\u001b[0m \u001b[0mx0\u001b[0m\u001b[0;34m,\u001b[0m \u001b[0mlambda0\u001b[0m\u001b[0;34m,\u001b[0m \u001b[0mmu0\u001b[0m\u001b[0;34m)\u001b[0m\u001b[0;34m\u001b[0m\u001b[0;34m\u001b[0m\u001b[0m\n\u001b[0m",
      "\u001b[0;32m<ipython-input-123-75b600da5351>\u001b[0m in \u001b[0;36mnewton_BFGS_array\u001b[0;34m(fun, grad_fun, lg, grad_lg, c_e, jac_e, c_i, jac_i, x0, lambda0, mu0, max_iter, epsilon_grad_L)\u001b[0m\n\u001b[1;32m     54\u001b[0m         \u001b[0;32mfor\u001b[0m \u001b[0mi\u001b[0m \u001b[0;32min\u001b[0m \u001b[0mrange\u001b[0m\u001b[0;34m(\u001b[0m\u001b[0mlen\u001b[0m\u001b[0;34m(\u001b[0m\u001b[0mc_e\u001b[0m\u001b[0;34m(\u001b[0m\u001b[0mxk\u001b[0m\u001b[0;34m)\u001b[0m\u001b[0;34m)\u001b[0m\u001b[0;34m)\u001b[0m\u001b[0;34m:\u001b[0m\u001b[0;34m\u001b[0m\u001b[0;34m\u001b[0m\u001b[0m\n\u001b[1;32m     55\u001b[0m             \u001b[0mrhok\u001b[0m \u001b[0;34m=\u001b[0m \u001b[0mnp\u001b[0m\u001b[0;34m.\u001b[0m\u001b[0mdot\u001b[0m\u001b[0;34m(\u001b[0m\u001b[0mjac_e\u001b[0m\u001b[0;34m(\u001b[0m\u001b[0mxk\u001b[0m\u001b[0;34m)\u001b[0m\u001b[0;34m[\u001b[0m\u001b[0mi\u001b[0m\u001b[0;34m]\u001b[0m\u001b[0;34m,\u001b[0m \u001b[0mnp\u001b[0m\u001b[0;34m.\u001b[0m\u001b[0mmatmul\u001b[0m\u001b[0;34m(\u001b[0m\u001b[0mHk\u001b[0m\u001b[0;34m,\u001b[0m\u001b[0mjac_e\u001b[0m\u001b[0;34m(\u001b[0m\u001b[0mxk\u001b[0m\u001b[0;34m)\u001b[0m\u001b[0;34m[\u001b[0m\u001b[0mi\u001b[0m\u001b[0;34m]\u001b[0m\u001b[0;34m)\u001b[0m\u001b[0;34m)\u001b[0m\u001b[0;34m\u001b[0m\u001b[0;34m\u001b[0m\u001b[0m\n\u001b[0;32m---> 56\u001b[0;31m             \u001b[0mlambdak_array\u001b[0m\u001b[0;34m[\u001b[0m\u001b[0mi\u001b[0m\u001b[0;34m]\u001b[0m \u001b[0;34m=\u001b[0m \u001b[0mlambdak_array\u001b[0m\u001b[0;34m[\u001b[0m\u001b[0mi\u001b[0m\u001b[0;34m]\u001b[0m \u001b[0;34m+\u001b[0m \u001b[0;34m(\u001b[0m\u001b[0;36m1\u001b[0m\u001b[0;34m/\u001b[0m\u001b[0mrhok\u001b[0m\u001b[0;34m)\u001b[0m\u001b[0;34m*\u001b[0m\u001b[0mc_e\u001b[0m\u001b[0;34m(\u001b[0m\u001b[0mxk\u001b[0m\u001b[0;34m)\u001b[0m\u001b[0;34m[\u001b[0m\u001b[0mi\u001b[0m\u001b[0;34m]\u001b[0m\u001b[0;34m\u001b[0m\u001b[0;34m\u001b[0m\u001b[0m\n\u001b[0m\u001b[1;32m     57\u001b[0m         \u001b[0;32mfor\u001b[0m \u001b[0mi\u001b[0m \u001b[0;32min\u001b[0m \u001b[0mrange\u001b[0m\u001b[0;34m(\u001b[0m\u001b[0mlen\u001b[0m\u001b[0;34m(\u001b[0m\u001b[0mc_i\u001b[0m\u001b[0;34m(\u001b[0m\u001b[0mxk\u001b[0m\u001b[0;34m)\u001b[0m\u001b[0;34m)\u001b[0m\u001b[0;34m)\u001b[0m\u001b[0;34m:\u001b[0m\u001b[0;34m\u001b[0m\u001b[0;34m\u001b[0m\u001b[0m\n\u001b[1;32m     58\u001b[0m             \u001b[0mrhok\u001b[0m \u001b[0;34m=\u001b[0m \u001b[0mnp\u001b[0m\u001b[0;34m.\u001b[0m\u001b[0mdot\u001b[0m\u001b[0;34m(\u001b[0m\u001b[0mjac_i\u001b[0m\u001b[0;34m(\u001b[0m\u001b[0mxk\u001b[0m\u001b[0;34m)\u001b[0m\u001b[0;34m[\u001b[0m\u001b[0mi\u001b[0m\u001b[0;34m]\u001b[0m\u001b[0;34m,\u001b[0m \u001b[0mnp\u001b[0m\u001b[0;34m.\u001b[0m\u001b[0mmatmul\u001b[0m\u001b[0;34m(\u001b[0m\u001b[0mHk\u001b[0m\u001b[0;34m,\u001b[0m\u001b[0mjac_i\u001b[0m\u001b[0;34m(\u001b[0m\u001b[0mxk\u001b[0m\u001b[0;34m)\u001b[0m\u001b[0;34m[\u001b[0m\u001b[0mi\u001b[0m\u001b[0;34m]\u001b[0m\u001b[0;34m)\u001b[0m\u001b[0;34m)\u001b[0m\u001b[0;34m\u001b[0m\u001b[0;34m\u001b[0m\u001b[0m\n",
      "\u001b[0;31mValueError\u001b[0m: cannot convert float NaN to integer"
     ]
    }
   ],
   "source": [
    "newton_BFGS_array(f, grad_f, lag, grad_lag, ce, Jce, ci, Jci, x0, lambda0, mu0)"
   ]
  },
  {
   "cell_type": "code",
   "execution_count": 132,
   "metadata": {},
   "outputs": [
    {
     "name": "stdout",
     "output_type": "stream",
     "text": [
      "Nombre d'iterations :  2\n",
      "lambdak_array :  [0.99999816 0.99999815 0.99999829 0.99999327 1.        ]\n",
      "muk_array :  [ 99.97859076  99.99500138 100.00811542  99.98670617  99.99978253\n",
      "  99.99586382  99.89258512  99.87947109  99.90088033  99.88780398\n",
      "  99.89172269 100.30462639 100.30462638  99.94956208          nan\n",
      "  99.53537361  99.53537362  99.89043792          nan 100.0000002\n",
      "  99.7999998 ]\n"
     ]
    },
    {
     "name": "stderr",
     "output_type": "stream",
     "text": [
      "/home/jeremy/anaconda3/lib/python3.7/site-packages/ipykernel_launcher.py:93: RuntimeWarning: invalid value encountered in double_scalars\n",
      "/home/jeremy/anaconda3/lib/python3.7/site-packages/ipykernel_launcher.py:90: RuntimeWarning: invalid value encountered in double_scalars\n",
      "/home/jeremy/anaconda3/lib/python3.7/site-packages/ipykernel_launcher.py:91: RuntimeWarning: invalid value encountered in double_scalars\n"
     ]
    },
    {
     "data": {
      "text/plain": [
       "array([-4.22546790e+00, -4.22546789e+00,  4.50127022e-01,             nan,\n",
       "       -2.68999998e+01,  2.13959357e+03,  1.78790709e+03,  2.38187139e+03,\n",
       "        2.03105603e+03,  2.12065457e+03])"
      ]
     },
     "execution_count": 132,
     "metadata": {},
     "output_type": "execute_result"
    }
   ],
   "source": [
    "uzawa_wolfe_step_array(f, grad_f, lag, grad_lag, ce, Jce, ci, Jci, x0, lambda0, mu0,0.1)"
   ]
  }
 ],
 "metadata": {
  "kernelspec": {
   "display_name": "Python 3",
   "language": "python",
   "name": "python3"
  },
  "language_info": {
   "codemirror_mode": {
    "name": "ipython",
    "version": 3
   },
   "file_extension": ".py",
   "mimetype": "text/x-python",
   "name": "python",
   "nbconvert_exporter": "python",
   "pygments_lexer": "ipython3",
   "version": "3.7.3"
  }
 },
 "nbformat": 4,
 "nbformat_minor": 2
}
